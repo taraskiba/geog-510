{
 "cells": [
  {
   "cell_type": "markdown",
   "id": "0",
   "metadata": {},
   "source": [
    "# Lab 5\n",
    "\n",
    "## Exercise 1: Calculating Distances with Functions\n",
    "\n",
    "- Define a function `calculate_distance` that takes two geographic coordinates (latitude and longitude) and returns the distance between them using the Haversine formula.\n",
    "- Use this function to calculate the distance between multiple pairs of coordinates."
   ]
  },
  {
   "cell_type": "code",
   "execution_count": 26,
   "id": "1",
   "metadata": {},
   "outputs": [
    {
     "name": "stdout",
     "output_type": "stream",
     "text": [
      "Distance: 2886.44 km\n",
      "Distance: 3709.60 km\n",
      "Distance: 327.14 km\n"
     ]
    }
   ],
   "source": [
    "from math import radians, cos, sin, atan2, sqrt\n",
    "def haversine(lat1, long1, lat2, long2):\n",
    "    R = 6371.0 # radius of the Earth in km\n",
    "    dlat = radians(lat2 - lat1)\n",
    "    dlong = radians(long2 - long1)\n",
    "    a = sin(dlat/2) * sin(dlat/2) + cos(radians(lat1)) * cos(radians(lat2)) * sin(dlong/2) * sin(dlong/2)\n",
    "    c = 2 * atan2(sqrt(a), sqrt(1 - a))\n",
    "    distance = R * c\n",
    "    return distance\n",
    "\n",
    "lengthA = haversine(36.12, -86.67, 33.94, -118.40)\n",
    "lengthB = haversine(33.94, -118.40, 38.91, -77.04)\n",
    "lengthC = haversine(38.91, -77.04, 40.71, -74.01)\n",
    "print(f\"Distance: {lengthA:.2f} km\") # .2f sets number of sig figs\n",
    "print(f\"Distance: {lengthB:.2f} km\")\n",
    "print(f\"Distance: {lengthC:.2f} km\")"
   ]
  },
  {
   "cell_type": "markdown",
   "id": "2",
   "metadata": {},
   "source": [
    "## Exercise 2: Batch Distance Calculation\n",
    "\n",
    "- Create a function `batch_distance_calculation` that accepts a list of coordinate pairs and returns a list of distances between consecutive pairs.\n",
    "- Test the function with a list of coordinates representing several cities."
   ]
  },
  {
   "cell_type": "code",
   "execution_count": 27,
   "id": "3",
   "metadata": {},
   "outputs": [
    {
     "name": "stdout",
     "output_type": "stream",
     "text": [
      "Distance 1: 2886.44 km\n",
      "Distance 2: 3709.60 km\n",
      "Distance 3: 327.14 km\n",
      "Distance 4: 3936.06 km\n"
     ]
    }
   ],
   "source": [
    "def batch_distance_calculation(locations):\n",
    "    for i, (lat1, long1, lat2, long2) in enumerate(locations):\n",
    "        distance = haversine(lat1, long1, lat2, long2)\n",
    "        print(f\"Distance {i+1}: {distance:.2f} km\")\n",
    "\n",
    "locations = [(36.12, -86.67, 33.94, -118.40),\n",
    "             (33.94, -118.40, 38.91, -77.04),\n",
    "             (38.91, -77.04, 40.71, -74.01),\n",
    "            (40.71, -74.01, 34.05, -118.25)]\n",
    "\n",
    "location_distances = batch_distance_calculation(locations)"
   ]
  },
  {
   "cell_type": "markdown",
   "id": "4",
   "metadata": {},
   "source": [
    "## Exercise 3: Creating and Using a Point Class\n",
    "\n",
    "- Define a `Point` class to represent a geographic point with attributes `latitude`, `longitude`, and `name`.\n",
    "- Add a method `distance_to` that calculates the distance from one point to another.\n",
    "- Instantiate several `Point` objects and calculate the distance between them."
   ]
  },
  {
   "cell_type": "code",
   "execution_count": 28,
   "id": "5",
   "metadata": {},
   "outputs": [
    {
     "name": "stdout",
     "output_type": "stream",
     "text": [
      "Distance from Nashville to Los Angeles is 2886.44 km\n",
      "Distance from Los Angeles to Washington is 3709.60 km\n",
      "Distance from Washington to New York is 327.14 km\n",
      "Distance from New York to Nashville is 1213.80 km\n"
     ]
    }
   ],
   "source": [
    "class Point:\n",
    "    def __init__(self, latitude, longitude, name = None):\n",
    "        self.latitude = latitude\n",
    "        self.longitude = longitude\n",
    "        self.name = name    \n",
    "\n",
    "    def distance_to(self, other):\n",
    "        return haversine(self.latitude, self.longitude, other.latitude, other.longitude)    \n",
    "    \n",
    "\n",
    "point1 = Point(36.12, -86.67, \"Nashville\")\n",
    "point2 = Point(33.94, -118.40, \"Los Angeles\")\n",
    "point3 = Point(38.91, -77.04, \"Washington\")\n",
    "point4 = Point(40.71, -74.01, \"New York\")\n",
    "\n",
    "print(f\"Distance from {point1.name} to {point2.name} is {point1.distance_to(point2):.2f} km\")   \n",
    "print(f\"Distance from {point2.name} to {point3.name} is {point2.distance_to(point3):.2f} km\")\n",
    "print(f\"Distance from {point3.name} to {point4.name} is {point3.distance_to(point4):.2f} km\")\n",
    "print(f\"Distance from {point4.name} to {point1.name} is {point4.distance_to(point1):.2f} km\")\n"
   ]
  },
  {
   "cell_type": "markdown",
   "id": "6",
   "metadata": {},
   "source": [
    "## Exercise 4: Reading and Writing Files\n",
    "\n",
    "- Write a function `read_coordinates` that reads a file containing a list of coordinates (latitude, longitude) and returns them as a list of tuples.\n",
    "- Write another function `write_coordinates` that takes a list of coordinates and writes them to a new file.\n",
    "- Ensure that both functions handle exceptions, such as missing files or improperly formatted data."
   ]
  },
  {
   "cell_type": "code",
   "execution_count": 29,
   "id": "7",
   "metadata": {},
   "outputs": [
    {
     "name": "stdout",
     "output_type": "stream",
     "text": [
      "Sample file 'coordinates.txt' has been created successfully.\n"
     ]
    }
   ],
   "source": [
    "# sample file to read in\n",
    "sample_data = \"\"\"35.6895,139.6917\n",
    "34.0522,-118.2437\n",
    "51.5074,-0.1278\n",
    "-33.8688,151.2093\n",
    "48.8566,2.3522\"\"\"\n",
    "\n",
    "output_file = \"coordinates.txt\"\n",
    "\n",
    "try:\n",
    "    with open(output_file, \"w\") as file:\n",
    "        file.write(sample_data)\n",
    "    print(f\"Sample file '{output_file}' has been created successfully.\")\n",
    "except Exception as e:\n",
    "    print(f\"An error occurred while creating the file: {e}\")\n"
   ]
  },
  {
   "cell_type": "code",
   "execution_count": 30,
   "id": "542d686b",
   "metadata": {},
   "outputs": [
    {
     "name": "stdout",
     "output_type": "stream",
     "text": [
      "[(35.6895, 139.6917), (34.0522, -118.2437), (51.5074, -0.1278), (-33.8688, 151.2093), (48.8566, 2.3522)]\n"
     ]
    }
   ],
   "source": [
    "# read in coordinates\n",
    "def read_coordinates_tuple(filename):\n",
    "    coordinates = []\n",
    "    try:\n",
    "        with open(filename, 'r') as file:\n",
    "            for line in file:\n",
    "                # Strip whitespace and split the line\n",
    "                parts = line.strip().split(',')\n",
    "                if len(parts) == 2:\n",
    "                    try:\n",
    "                        lat = float(parts[0])\n",
    "                        lon = float(parts[1])\n",
    "                        coordinates.append((lat, lon))\n",
    "                    except ValueError:\n",
    "                        print(f\"Skipping invalid line: {line.strip()}\")\n",
    "                else:\n",
    "                    print(f\"Skipping line with incorrect format: {line.strip()}\")\n",
    "    except FileNotFoundError:\n",
    "        print(f\"File '{filename}' not found.\")\n",
    "    except IOError:\n",
    "        print(f\"Error reading file '{filename}'.\")\n",
    "    \n",
    "    return coordinates\n",
    "\n",
    "# Example usage:\n",
    "filename = \"coordinates.txt\"\n",
    "coord_list = read_coordinates_tuple(filename)\n",
    "print(coord_list)\n"
   ]
  },
  {
   "cell_type": "code",
   "execution_count": 31,
   "id": "707afa6a",
   "metadata": {},
   "outputs": [],
   "source": [
    "def write_coordinates(output_file):\n",
    "    try:\n",
    "        with open(output_file, \"w\") as file:\n",
    "            file.write(sample_data)\n",
    "        print(f\"Sample file '{output_file}' has been created successfully.\")\n",
    "    except Exception as e:\n",
    "        print(f\"An error occurred while creating the file: {e}\")\n",
    "\n",
    "output_file = \"coordinates.txt\""
   ]
  },
  {
   "cell_type": "markdown",
   "id": "8",
   "metadata": {},
   "source": [
    "## Exercise 5: Processing Coordinates from a File\n",
    "\n",
    "- Create a function that reads coordinates from a file and uses the `Point` class to create `Point` objects.\n",
    "- Calculate the distance between each consecutive pair of points and write the results to a new file.\n",
    "- Ensure the function handles file-related exceptions and gracefully handles improperly formatted lines."
   ]
  },
  {
   "cell_type": "code",
   "execution_count": 32,
   "id": "4098fd91",
   "metadata": {},
   "outputs": [],
   "source": [
    "def read_coordinates(input_file):\n",
    "    coordinates = []\n",
    "    try:\n",
    "        with open(input_file, \"r\") as file:\n",
    "            for line in file:\n",
    "                line = line.strip()\n",
    "                latitude, longitude = line.split(\",\")\n",
    "                point = f\"POINT({longitude} {latitude})\"\n",
    "                coordinates.append(point)\n",
    "        return (coordinates)\n",
    "    except Exception as e:\n",
    "        print(f\"An error occurred while reading the file: {e}\")\n",
    "\n",
    "input_file = \"coordinates.txt\"\n",
    "\n",
    "coordinate_locations = read_coordinates(input_file)"
   ]
  },
  {
   "cell_type": "code",
   "execution_count": 33,
   "id": "f3d10f84",
   "metadata": {},
   "outputs": [],
   "source": [
    "from shapely import wkt"
   ]
  },
  {
   "cell_type": "code",
   "execution_count": 41,
   "id": "c3cb21a4",
   "metadata": {},
   "outputs": [
    {
     "name": "stdout",
     "output_type": "stream",
     "text": [
      "Successfully calculated distances.\n",
      "[8815.473355809401, 8755.602341157259, 16993.933459795906, 16960.497376398747]\n"
     ]
    }
   ],
   "source": [
    "# Parse the WKT string\n",
    "\n",
    "#calculate distance between two points\n",
    "def distance_calculations(coordinate_locations):\n",
    "    distances = []\n",
    "    try:\n",
    "        for i in range(len(coordinate_locations)-1):\n",
    "            point1 = wkt.loads(coordinate_locations[i])\n",
    "            point2 = wkt.loads(coordinate_locations[i+1])\n",
    "\n",
    "            lat1 = float(point1.y)\n",
    "            lon1 = float(point1.x)\n",
    "            lat2 = float(point2.y)\n",
    "            lon2 = float(point2.x)\n",
    "\n",
    "            distance = haversine(lat1, lon1, lat2, lon2)\n",
    "            distances.append(distance)\n",
    "        print(f\"Successfully calculated distances.\")\n",
    "        return distances\n",
    "    except Exception as e:\n",
    "        print(f\"An error occurred while reading the file: {e}\")\n",
    "\n",
    "coordinate_locations = read_coordinates(input_file)\n",
    "distances = distance_calculations(coordinate_locations)\n",
    "print(distances)"
   ]
  },
  {
   "cell_type": "markdown",
   "id": "11",
   "metadata": {},
   "source": [
    "## Exercise 6: Exception Handling in Data Processing\n",
    "\n",
    "- Modify the `batch_distance_calculation` function to handle exceptions that might occur during the calculation, such as invalid coordinates.\n",
    "- Ensure the function skips invalid data and continues processing the remaining data."
   ]
  },
  {
   "cell_type": "code",
   "execution_count": 59,
   "id": "12",
   "metadata": {},
   "outputs": [
    {
     "name": "stdout",
     "output_type": "stream",
     "text": [
      "Distance 1: 2886.44 km\n",
      "Distance 2: 3709.60 km\n",
      "Distance 3: 327.14 km\n",
      "Skipping invalid line: 3 & 4\n",
      "Distance 5: 3936.06 km\n"
     ]
    }
   ],
   "source": [
    "# batch distance calculation with data handling\n",
    "def batch_distance_calculation(locations):\n",
    "    for i, location in enumerate(locations):\n",
    "        try:\n",
    "            lat1, long1, lat2, long2 = location\n",
    "            distance = haversine(lat1, long1, lat2, long2)\n",
    "            print(f\"Distance {i+1}: {distance:.2f} km\")\n",
    "        except (TypeError, ValueError):\n",
    "            print(f\"Skipping invalid line: {i} & {i+1}\")\n",
    "        except Exception as e:\n",
    "            print(f\"Unexpected error processing line {i+1}: {str(e)}\")\n",
    "\n",
    "\n",
    "locations = [(36.12, -86.67, 33.94, -118.40),\n",
    "             (33.94, -118.40, 38.91, -77.04),\n",
    "             (38.91, -77.04, 40.71, -74.01),\n",
    "             \"invalid\",\n",
    "            (40.71, -74.01, 34.05, -118.25)]\n",
    "\n",
    "location_distances = batch_distance_calculation(locations)"
   ]
  },
  {
   "cell_type": "markdown",
   "id": "13",
   "metadata": {},
   "source": [
    "## Exercise 7: NumPy Array Operations and Geospatial Coordinates\n",
    "\n",
    "In this exercise, you will work with NumPy arrays representing geospatial coordinates (latitude and longitude) and perform basic array operations.\n",
    "\n",
    "1. Create a 2D NumPy array containing the latitude and longitude of the following cities: Tokyo (35.6895, 139.6917), New York (40.7128, -74.0060), London (51.5074, -0.1278), and Paris (48.8566, 2.3522).\n",
    "2. Convert the latitude and longitude values from degrees to radians using np.radians().\n",
    "3. Calculate the element-wise difference between Tokyo and the other cities' latitude and longitude in radians."
   ]
  },
  {
   "cell_type": "code",
   "execution_count": null,
   "id": "14",
   "metadata": {},
   "outputs": [],
   "source": []
  },
  {
   "cell_type": "markdown",
   "id": "15",
   "metadata": {},
   "source": [
    "## Exercise 8: Pandas DataFrame Operations with Geospatial Data\n",
    "\n",
    "In this exercise, you'll use Pandas to load and manipulate a dataset containing city population data, and then calculate and visualize statistics.\n",
    "\n",
    "1. Load the world cities dataset from this URL using Pandas: https://github.com/opengeos/datasets/releases/download/world/world_cities.csv\n",
    "2. Display the first 5 rows and check for missing values.\n",
    "3. Filter the dataset to only include cities with a population greater than 1 million.\n",
    "4. Group the cities by their country and calculate the total population for each country.\n",
    "5. Sort the cities by population in descending order and display the top 10 cities."
   ]
  },
  {
   "cell_type": "code",
   "execution_count": null,
   "id": "16",
   "metadata": {},
   "outputs": [],
   "source": []
  },
  {
   "cell_type": "markdown",
   "id": "17",
   "metadata": {},
   "source": [
    "## Exercise 9: Creating and Manipulating GeoDataFrames with GeoPandas\n",
    "\n",
    "This exercise focuses on creating and manipulating GeoDataFrames, performing spatial operations, and visualizing the data.\n",
    "\n",
    "1. Load the New York City building dataset from the GeoJSON file using GeoPandas: https://github.com/opengeos/datasets/releases/download/places/nyc_buildings.geojson\n",
    "2. Create a plot of the building footprints and color them based on the building height (use the `height_MS` column).\n",
    "3. Create an interactive map of the building footprints and color them based on the building height (use the `height_MS` column).\n",
    "4. Calculate the average building height (use the `height_MS` column).\n",
    "5. Select buildings with a height greater than the average height.\n",
    "6. Save the GeoDataFrame to a new GeoJSON file."
   ]
  },
  {
   "cell_type": "code",
   "execution_count": null,
   "id": "18",
   "metadata": {},
   "outputs": [],
   "source": []
  },
  {
   "cell_type": "markdown",
   "id": "19",
   "metadata": {},
   "source": [
    "## Exercise 10: Combining NumPy, Pandas, and GeoPandas\n",
    "\n",
    "This exercise requires you to combine the power of NumPy, Pandas, and GeoPandas to analyze and visualize spatial data.\n",
    "\n",
    "1. Use Pandas to load the world cities dataset from this URL: https://github.com/opengeos/datasets/releases/download/world/world_cities.csv\n",
    "2. Filter the dataset to include only cities with latitude values between -40 and 60 (i.e., cities located in the Northern Hemisphere or near the equator).\n",
    "3. Create a GeoDataFrame from the filtered dataset by converting the latitude and longitude into geometries.\n",
    "4. Reproject the GeoDataFrame to the Mercator projection (EPSG:3857).\n",
    "5. Calculate the distance (in meters) between each city and the city of Paris.\n",
    "6. Plot the cities on a world map, coloring the points by their distance from Paris."
   ]
  },
  {
   "cell_type": "code",
   "execution_count": null,
   "id": "20",
   "metadata": {},
   "outputs": [],
   "source": []
  },
  {
   "cell_type": "markdown",
   "id": "21",
   "metadata": {},
   "source": [
    "## Submission Requirements\n",
    "\n",
    "Complete the exercises above and and upload the notebook to your GitHub repository. Make sure the notebook has a Colab badge at the top so that it can be easily opened in Google Colab. Submit the URL of the notebook to Canvas."
   ]
  }
 ],
 "metadata": {
  "kernelspec": {
   "display_name": "geo",
   "language": "python",
   "name": "python3"
  },
  "language_info": {
   "codemirror_mode": {
    "name": "ipython",
    "version": 3
   },
   "file_extension": ".py",
   "mimetype": "text/x-python",
   "name": "python",
   "nbconvert_exporter": "python",
   "pygments_lexer": "ipython3",
   "version": "3.12.8"
  }
 },
 "nbformat": 4,
 "nbformat_minor": 5
}
