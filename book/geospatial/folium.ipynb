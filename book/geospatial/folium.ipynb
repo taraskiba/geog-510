{
 "cells": [
  {
   "cell_type": "markdown",
   "metadata": {},
   "source": [
    "# Folium\n",
    "\n",
    "[![Open In Colab](https://colab.research.google.com/assets/colab-badge.svg)](https://colab.research.google.com/github/giswqs/geog-510/blob/main/book/geospatial/folium.ipynb)\n",
    "\n",
    "## Introduction\n",
    "**Folium** is a powerful Python library that enables the creation of interactive maps using **Leaflet.js**. It provides a simple interface to visualize geospatial data and integrates well with **Pandas**, **GeoPandas**, and other geospatial libraries.\n",
    "\n",
    "### Learning Objectives\n",
    "By the end of this lecture, you will:\n",
    "- Understand what Folium is and how it works.\n",
    "- Learn to create basic maps and add markers.\n",
    "- Explore how to visualize geospatial data.\n",
    "- Customize maps with different layers and styles.\n",
    "\n",
    "## 1. Installing and Importing Folium\n",
    "To install Folium, run the following command:\n",
    "\n",
    "```bash\n",
    "pip install folium\n",
    "```\n",
    "\n",
    "Then, import Folium in Python:"
   ]
  },
  {
   "cell_type": "code",
   "execution_count": null,
   "metadata": {},
   "outputs": [],
   "source": [
    "import folium"
   ]
  },
  {
   "cell_type": "markdown",
   "metadata": {},
   "source": [
    "## 2. Creating a Basic Map\n",
    "A Folium map is centered on a specific latitude and longitude."
   ]
  },
  {
   "cell_type": "code",
   "execution_count": null,
   "metadata": {},
   "outputs": [],
   "source": [
    "m = folium.Map(\n",
    "    location=[37.7749, -122.4194], zoom_start=10, tiles=\"CartoDB dark matter\"\n",
    ")\n",
    "m.save(\"map.html\")  # Save map as an HTML file\n",
    "m  # Display the map in Jupyter Notebook"
   ]
  },
  {
   "cell_type": "markdown",
   "metadata": {},
   "source": [
    "### Map Parameters\n",
    "- `location`: Center of the map (latitude, longitude).\n",
    "- `zoom_start`: Initial zoom level.\n",
    "- `tiles`: The map style (default: `\"OpenStreetMap\"`). Try other styles like `Esri.WorldImagery`, `CartoDB positron`, or `CartoDB dark_matter`.\n",
    "\n",
    "## 3. Adding Markers and Popups\n",
    "Folium allows adding markers to highlight specific locations."
   ]
  },
  {
   "cell_type": "code",
   "execution_count": null,
   "metadata": {},
   "outputs": [],
   "source": [
    "m = folium.Map(location=[37.7749, -122.4194], zoom_start=10)\n",
    "folium.Marker(\n",
    "    [37.7749, -122.4194],\n",
    "    popup=\"San Francisco\",\n",
    "    tooltip=\"Click for info\",\n",
    "    icon=folium.Icon(color=\"blue\", icon=\"info-sign\"),\n",
    ").add_to(m)\n",
    "\n",
    "m.save(\"map_with_marker.html\")\n",
    "m"
   ]
  },
  {
   "cell_type": "markdown",
   "metadata": {},
   "source": [
    "## 4. Adding GeoJSON and Choropleth Layers\n",
    "\n",
    "Folium supports **GeoJSON** and **Choropleth** layers for visualizing geographic data. You can create GeoJSON data using the [geojson.io](https://geojson.io/) website or any other tool.\n",
    "\n",
    "### Adding a GeoJSON Layer"
   ]
  },
  {
   "cell_type": "code",
   "execution_count": null,
   "metadata": {},
   "outputs": [],
   "source": [
    "geojson_data = {\n",
    "    \"type\": \"FeatureCollection\",\n",
    "    \"features\": [\n",
    "        {\n",
    "            \"type\": \"Feature\",\n",
    "            \"geometry\": {\"type\": \"Point\", \"coordinates\": [-122.4194, 37.7749]},\n",
    "            \"properties\": {\"name\": \"San Francisco\"},\n",
    "        }\n",
    "    ],\n",
    "}\n",
    "\n",
    "m = folium.Map(location=[37.7749, -122.4194], zoom_start=10)\n",
    "folium.GeoJson(geojson_data, name=\"GeoJSON Layer\").add_to(m)\n",
    "m"
   ]
  },
  {
   "cell_type": "code",
   "execution_count": null,
   "metadata": {},
   "outputs": [],
   "source": [
    "geojson_data = {\n",
    "    \"type\": \"FeatureCollection\",\n",
    "    \"features\": [\n",
    "        {\n",
    "            \"type\": \"Feature\",\n",
    "            \"properties\": {},\n",
    "            \"geometry\": {\n",
    "                \"coordinates\": [\n",
    "                    [\n",
    "                        [-122.44429382986985, 37.81964485838134],\n",
    "                        [-122.53122643397364, 37.788427732684966],\n",
    "                        [-122.50990691298375, 37.68952854933407],\n",
    "                        [-122.49092010922561, 37.64775768422055],\n",
    "                        [-122.35255325612343, 37.648179496058006],\n",
    "                        [-122.33880916574914, 37.720239370115394],\n",
    "                        [-122.36423573112428, 37.786798465627456],\n",
    "                        [-122.39984452556665, 37.8209585063379],\n",
    "                        [-122.44429382986985, 37.81964485838134],\n",
    "                    ]\n",
    "                ],\n",
    "                \"type\": \"Polygon\",\n",
    "            },\n",
    "        }\n",
    "    ],\n",
    "}\n",
    "\n",
    "m = folium.Map(location=[37.7749, -122.4194], zoom_start=10)\n",
    "folium.GeoJson(geojson_data, name=\"GeoJSON Layer\").add_to(m)\n",
    "m"
   ]
  },
  {
   "cell_type": "markdown",
   "metadata": {},
   "source": [
    "### Creating a Choropleth Map"
   ]
  },
  {
   "cell_type": "code",
   "execution_count": null,
   "metadata": {},
   "outputs": [],
   "source": [
    "import requests\n",
    "\n",
    "m = folium.Map([43, -100], zoom_start=4)\n",
    "\n",
    "us_states = requests.get(\n",
    "    \"https://raw.githubusercontent.com/python-visualization/folium-example-data/main/us_states.json\"\n",
    ").json()\n",
    "\n",
    "folium.Choropleth(\n",
    "    geo_data=us_states,\n",
    "    fill_opacity=0.3,\n",
    "    line_weight=2,\n",
    ").add_to(m)\n",
    "\n",
    "m"
   ]
  },
  {
   "cell_type": "code",
   "execution_count": null,
   "metadata": {},
   "outputs": [],
   "source": [
    "import pandas\n",
    "\n",
    "state_data = pandas.read_csv(\n",
    "    \"https://raw.githubusercontent.com/python-visualization/folium-example-data/main/us_unemployment_oct_2012.csv\"\n",
    ")\n",
    "\n",
    "m = folium.Map([43, -100], zoom_start=4)\n",
    "\n",
    "folium.Choropleth(\n",
    "    geo_data=us_states,\n",
    "    data=state_data,\n",
    "    columns=[\"State\", \"Unemployment\"],\n",
    "    key_on=\"feature.id\",\n",
    ").add_to(m)\n",
    "\n",
    "m"
   ]
  },
  {
   "cell_type": "markdown",
   "metadata": {},
   "source": [
    "## 5. Customizing Map Tiles\n",
    "Folium allows switching between different map tiles:"
   ]
  },
  {
   "cell_type": "code",
   "execution_count": null,
   "metadata": {},
   "outputs": [],
   "source": [
    "m = folium.Map(location=[37.7749, -122.4194], zoom_start=10, tiles=\"Esri.WorldImagery\")\n",
    "m"
   ]
  },
  {
   "cell_type": "markdown",
   "metadata": {},
   "source": [
    "Other tile options:\n",
    "- `CartoDB positron`\n",
    "- `CartoDB dark_matter`\n",
    "\n",
    "## 6. Adding Layer Controls\n",
    "To allow toggling between layers:"
   ]
  },
  {
   "cell_type": "code",
   "execution_count": null,
   "metadata": {},
   "outputs": [],
   "source": [
    "m = folium.Map(location=[37.7749, -122.4194], zoom_start=10)\n",
    "folium.TileLayer(\"CartoDB positron\").add_to(m)\n",
    "folium.TileLayer(\"CartoDB darkmatter\").add_to(m)\n",
    "folium.LayerControl().add_to(m)\n",
    "m"
   ]
  },
  {
   "cell_type": "markdown",
   "metadata": {},
   "source": [
    "## 7. Saving and Sharing Maps\n",
    "Folium maps can be saved as HTML files:"
   ]
  },
  {
   "cell_type": "code",
   "execution_count": null,
   "metadata": {},
   "outputs": [],
   "source": [
    "m.save(\"interactive_map.html\")"
   ]
  },
  {
   "cell_type": "markdown",
   "metadata": {},
   "source": [
    "## Summary\n",
    "- **Folium** is a Python library for creating interactive maps.\n",
    "- Basic maps can be customized with **markers, popups, and tooltips**.\n",
    "- Advanced features include **GeoJSON, choropleth maps, and tile layers**.\n",
    "- Maps can be saved as **HTML files** and shared easily.\n",
    "\n",
    "## Further Reading\n",
    "- [Folium Documentation](https://python-visualization.github.io/folium/)\n",
    "- [Leaflet.js Documentation](https://leafletjs.com/)"
   ]
  }
 ],
 "metadata": {
  "kernelspec": {
   "display_name": "geo",
   "language": "python",
   "name": "python3"
  },
  "language_info": {
   "codemirror_mode": {
    "name": "ipython",
    "version": 3
   },
   "file_extension": ".py",
   "mimetype": "text/x-python",
   "name": "python",
   "nbconvert_exporter": "python",
   "pygments_lexer": "ipython3",
   "version": "3.12.9"
  }
 },
 "nbformat": 4,
 "nbformat_minor": 4
}
